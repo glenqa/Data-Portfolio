{
 "cells": [
  {
   "cell_type": "markdown",
   "id": "0d8458a7-b138-4533-9427-b0a808f56491",
   "metadata": {},
   "source": [
    "# Amazon Customer Data Analysis"
   ]
  },
  {
   "cell_type": "markdown",
   "id": "0aeba05c-0cc9-4ddd-964f-e7bab14716b2",
   "metadata": {},
   "source": [
    "## 1. Preparing for Data Analysis"
   ]
  },
  {
   "cell_type": "code",
   "execution_count": 387,
   "id": "45c6e681-6a41-45d3-b357-37212d620451",
   "metadata": {},
   "outputs": [],
   "source": [
    "# Importing necessary packages\n",
    "import pandas as pd\n",
    "import numpy as np\n",
    "import seaborn as sns\n",
    "import matplotlib.pyplot as plt"
   ]
  },
  {
   "cell_type": "markdown",
   "id": "1666e978-0f72-4e5b-965e-be878a462b00",
   "metadata": {},
   "source": [
    "### Dataset Information:\n",
    "    \n",
    "##### Id\n",
    "##### ProductId — unique identifier for the product\n",
    "##### UserId — unqiue identifier for the user\n",
    "##### ProfileName\n",
    "##### HelpfulnessNumerator — number of users who found the review helpful\n",
    "##### HelpfulnessDenominator — number of users who indicated whether they found the review helpful or not\n",
    "##### Score — rating between 1 and 5\n",
    "##### Time — timestamp for the review\n",
    "##### Summary — brief summary of the review\n",
    "##### Text — text of the review"
   ]
  },
  {
   "cell_type": "markdown",
   "id": "e694ba11-548c-4aa0-a3f0-b58d3f986b4d",
   "metadata": {},
   "source": [
    "## Reading data from SQLite Database"
   ]
  },
  {
   "cell_type": "code",
   "execution_count": 390,
   "id": "eb40e67b-4c49-41b7-9c12-5b77c697ab5d",
   "metadata": {},
   "outputs": [],
   "source": [
    "import sqlite3"
   ]
  },
  {
   "cell_type": "code",
   "execution_count": 391,
   "id": "c530e979-60f1-4e0d-8c82-66f3e1db7faa",
   "metadata": {},
   "outputs": [],
   "source": [
    "con = sqlite3.connect(\"/Users/glen/Downloads/amazon_customer_data/database.sqlite\")"
   ]
  },
  {
   "cell_type": "code",
   "execution_count": 392,
   "id": "e4e4993b-a6bf-4006-85af-231703d6eea4",
   "metadata": {},
   "outputs": [],
   "source": [
    "df = pd.read_sql_query(\"SELECT * FROM REVIEWS\" , con)"
   ]
  },
  {
   "cell_type": "code",
   "execution_count": 393,
   "id": "8dd207e6-2e37-4ec7-ab47-a3421e00ce83",
   "metadata": {},
   "outputs": [
    {
     "data": {
      "text/plain": [
       "(568454, 10)"
      ]
     },
     "execution_count": 393,
     "metadata": {},
     "output_type": "execute_result"
    }
   ],
   "source": [
    "df.shape"
   ]
  },
  {
   "cell_type": "markdown",
   "id": "714579b7-f78b-4d4a-9e7f-5702ff595d36",
   "metadata": {},
   "source": [
    "# 2. Data Pre-processing / Cleaning"
   ]
  },
  {
   "cell_type": "code",
   "execution_count": 395,
   "id": "080f27f8-9eb6-4bdd-bb7c-2c871656a3fb",
   "metadata": {},
   "outputs": [
    {
     "data": {
      "text/html": [
       "<div>\n",
       "<style scoped>\n",
       "    .dataframe tbody tr th:only-of-type {\n",
       "        vertical-align: middle;\n",
       "    }\n",
       "\n",
       "    .dataframe tbody tr th {\n",
       "        vertical-align: top;\n",
       "    }\n",
       "\n",
       "    .dataframe thead th {\n",
       "        text-align: right;\n",
       "    }\n",
       "</style>\n",
       "<table border=\"1\" class=\"dataframe\">\n",
       "  <thead>\n",
       "    <tr style=\"text-align: right;\">\n",
       "      <th></th>\n",
       "      <th>Id</th>\n",
       "      <th>ProductId</th>\n",
       "      <th>UserId</th>\n",
       "      <th>ProfileName</th>\n",
       "      <th>HelpfulnessNumerator</th>\n",
       "      <th>HelpfulnessDenominator</th>\n",
       "      <th>Score</th>\n",
       "      <th>Time</th>\n",
       "      <th>Summary</th>\n",
       "      <th>Text</th>\n",
       "    </tr>\n",
       "  </thead>\n",
       "  <tbody>\n",
       "    <tr>\n",
       "      <th>0</th>\n",
       "      <td>1</td>\n",
       "      <td>B001E4KFG0</td>\n",
       "      <td>A3SGXH7AUHU8GW</td>\n",
       "      <td>delmartian</td>\n",
       "      <td>1</td>\n",
       "      <td>1</td>\n",
       "      <td>5</td>\n",
       "      <td>1303862400</td>\n",
       "      <td>Good Quality Dog Food</td>\n",
       "      <td>I have bought several of the Vitality canned d...</td>\n",
       "    </tr>\n",
       "    <tr>\n",
       "      <th>1</th>\n",
       "      <td>2</td>\n",
       "      <td>B00813GRG4</td>\n",
       "      <td>A1D87F6ZCVE5NK</td>\n",
       "      <td>dll pa</td>\n",
       "      <td>0</td>\n",
       "      <td>0</td>\n",
       "      <td>1</td>\n",
       "      <td>1346976000</td>\n",
       "      <td>Not as Advertised</td>\n",
       "      <td>Product arrived labeled as Jumbo Salted Peanut...</td>\n",
       "    </tr>\n",
       "    <tr>\n",
       "      <th>2</th>\n",
       "      <td>3</td>\n",
       "      <td>B000LQOCH0</td>\n",
       "      <td>ABXLMWJIXXAIN</td>\n",
       "      <td>Natalia Corres \"Natalia Corres\"</td>\n",
       "      <td>1</td>\n",
       "      <td>1</td>\n",
       "      <td>4</td>\n",
       "      <td>1219017600</td>\n",
       "      <td>\"Delight\" says it all</td>\n",
       "      <td>This is a confection that has been around a fe...</td>\n",
       "    </tr>\n",
       "    <tr>\n",
       "      <th>3</th>\n",
       "      <td>4</td>\n",
       "      <td>B000UA0QIQ</td>\n",
       "      <td>A395BORC6FGVXV</td>\n",
       "      <td>Karl</td>\n",
       "      <td>3</td>\n",
       "      <td>3</td>\n",
       "      <td>2</td>\n",
       "      <td>1307923200</td>\n",
       "      <td>Cough Medicine</td>\n",
       "      <td>If you are looking for the secret ingredient i...</td>\n",
       "    </tr>\n",
       "    <tr>\n",
       "      <th>4</th>\n",
       "      <td>5</td>\n",
       "      <td>B006K2ZZ7K</td>\n",
       "      <td>A1UQRSCLF8GW1T</td>\n",
       "      <td>Michael D. Bigham \"M. Wassir\"</td>\n",
       "      <td>0</td>\n",
       "      <td>0</td>\n",
       "      <td>5</td>\n",
       "      <td>1350777600</td>\n",
       "      <td>Great taffy</td>\n",
       "      <td>Great taffy at a great price.  There was a wid...</td>\n",
       "    </tr>\n",
       "  </tbody>\n",
       "</table>\n",
       "</div>"
      ],
      "text/plain": [
       "   Id   ProductId          UserId                      ProfileName  \\\n",
       "0   1  B001E4KFG0  A3SGXH7AUHU8GW                       delmartian   \n",
       "1   2  B00813GRG4  A1D87F6ZCVE5NK                           dll pa   \n",
       "2   3  B000LQOCH0   ABXLMWJIXXAIN  Natalia Corres \"Natalia Corres\"   \n",
       "3   4  B000UA0QIQ  A395BORC6FGVXV                             Karl   \n",
       "4   5  B006K2ZZ7K  A1UQRSCLF8GW1T    Michael D. Bigham \"M. Wassir\"   \n",
       "\n",
       "   HelpfulnessNumerator  HelpfulnessDenominator  Score        Time  \\\n",
       "0                     1                       1      5  1303862400   \n",
       "1                     0                       0      1  1346976000   \n",
       "2                     1                       1      4  1219017600   \n",
       "3                     3                       3      2  1307923200   \n",
       "4                     0                       0      5  1350777600   \n",
       "\n",
       "                 Summary                                               Text  \n",
       "0  Good Quality Dog Food  I have bought several of the Vitality canned d...  \n",
       "1      Not as Advertised  Product arrived labeled as Jumbo Salted Peanut...  \n",
       "2  \"Delight\" says it all  This is a confection that has been around a fe...  \n",
       "3         Cough Medicine  If you are looking for the secret ingredient i...  \n",
       "4            Great taffy  Great taffy at a great price.  There was a wid...  "
      ]
     },
     "execution_count": 395,
     "metadata": {},
     "output_type": "execute_result"
    }
   ],
   "source": [
    "df.head()"
   ]
  },
  {
   "cell_type": "code",
   "execution_count": 396,
   "id": "d12c97d3-2c06-43e2-85bd-7722ba0a9931",
   "metadata": {},
   "outputs": [
    {
     "data": {
      "text/plain": [
       "\"\\n'HelpfulnessNumerator' is the number of users who found the review helpful, which must be less than 'HelpfulnessDenominator' \\nwhich is the number of users who indicated whether they found the review helpful or not.\\n\""
      ]
     },
     "execution_count": 396,
     "metadata": {},
     "output_type": "execute_result"
    }
   ],
   "source": [
    "'''\n",
    "'HelpfulnessNumerator' is the number of users who found the review helpful, which must be less than 'HelpfulnessDenominator' \n",
    "which is the number of users who indicated whether they found the review helpful or not.\n",
    "'''"
   ]
  },
  {
   "cell_type": "code",
   "execution_count": 397,
   "id": "9a41a527-a515-4633-aebc-8256731c75cf",
   "metadata": {},
   "outputs": [
    {
     "data": {
      "text/html": [
       "<div>\n",
       "<style scoped>\n",
       "    .dataframe tbody tr th:only-of-type {\n",
       "        vertical-align: middle;\n",
       "    }\n",
       "\n",
       "    .dataframe tbody tr th {\n",
       "        vertical-align: top;\n",
       "    }\n",
       "\n",
       "    .dataframe thead th {\n",
       "        text-align: right;\n",
       "    }\n",
       "</style>\n",
       "<table border=\"1\" class=\"dataframe\">\n",
       "  <thead>\n",
       "    <tr style=\"text-align: right;\">\n",
       "      <th></th>\n",
       "      <th>Id</th>\n",
       "      <th>ProductId</th>\n",
       "      <th>UserId</th>\n",
       "      <th>ProfileName</th>\n",
       "      <th>HelpfulnessNumerator</th>\n",
       "      <th>HelpfulnessDenominator</th>\n",
       "      <th>Score</th>\n",
       "      <th>Time</th>\n",
       "      <th>Summary</th>\n",
       "      <th>Text</th>\n",
       "    </tr>\n",
       "  </thead>\n",
       "  <tbody>\n",
       "    <tr>\n",
       "      <th>44736</th>\n",
       "      <td>44737</td>\n",
       "      <td>B001EQ55RW</td>\n",
       "      <td>A2V0I904FH7ABY</td>\n",
       "      <td>Ram</td>\n",
       "      <td>3</td>\n",
       "      <td>2</td>\n",
       "      <td>4</td>\n",
       "      <td>1212883200</td>\n",
       "      <td>Pure cocoa taste with crunchy almonds inside</td>\n",
       "      <td>It was almost a 'love at first bite' - the per...</td>\n",
       "    </tr>\n",
       "    <tr>\n",
       "      <th>64421</th>\n",
       "      <td>64422</td>\n",
       "      <td>B000MIDROQ</td>\n",
       "      <td>A161DK06JJMCYF</td>\n",
       "      <td>J. E. Stephens \"Jeanne\"</td>\n",
       "      <td>3</td>\n",
       "      <td>1</td>\n",
       "      <td>5</td>\n",
       "      <td>1224892800</td>\n",
       "      <td>Bought This for My Son at College</td>\n",
       "      <td>My son loves spaghetti so I didn't hesitate or...</td>\n",
       "    </tr>\n",
       "  </tbody>\n",
       "</table>\n",
       "</div>"
      ],
      "text/plain": [
       "          Id   ProductId          UserId              ProfileName  \\\n",
       "44736  44737  B001EQ55RW  A2V0I904FH7ABY                      Ram   \n",
       "64421  64422  B000MIDROQ  A161DK06JJMCYF  J. E. Stephens \"Jeanne\"   \n",
       "\n",
       "       HelpfulnessNumerator  HelpfulnessDenominator  Score        Time  \\\n",
       "44736                     3                       2      4  1212883200   \n",
       "64421                     3                       1      5  1224892800   \n",
       "\n",
       "                                            Summary  \\\n",
       "44736  Pure cocoa taste with crunchy almonds inside   \n",
       "64421             Bought This for My Son at College   \n",
       "\n",
       "                                                    Text  \n",
       "44736  It was almost a 'love at first bite' - the per...  \n",
       "64421  My son loves spaghetti so I didn't hesitate or...  "
      ]
     },
     "execution_count": 397,
     "metadata": {},
     "output_type": "execute_result"
    }
   ],
   "source": [
    "# Determining which are the invalid rows:\n",
    "df[df['HelpfulnessNumerator'] > df['HelpfulnessDenominator']]"
   ]
  },
  {
   "cell_type": "code",
   "execution_count": 398,
   "id": "91c397d2-75cd-4951-a475-27ade9fef65a",
   "metadata": {},
   "outputs": [],
   "source": [
    "# Including only valid rows:\n",
    "df_valid = df[df['HelpfulnessNumerator'] <= df['HelpfulnessDenominator']]"
   ]
  },
  {
   "cell_type": "code",
   "execution_count": 399,
   "id": "a20ac039-6cc4-4555-89a7-35e8ae49445d",
   "metadata": {},
   "outputs": [
    {
     "data": {
      "text/plain": [
       "(568452, 10)"
      ]
     },
     "execution_count": 399,
     "metadata": {},
     "output_type": "execute_result"
    }
   ],
   "source": [
    "df_valid.shape"
   ]
  },
  {
   "cell_type": "code",
   "execution_count": 400,
   "id": "918bde5a-dc09-4100-9c11-4bcf4eba4ab3",
   "metadata": {},
   "outputs": [
    {
     "data": {
      "text/plain": [
       "Index(['Id', 'ProductId', 'UserId', 'ProfileName', 'HelpfulnessNumerator',\n",
       "       'HelpfulnessDenominator', 'Score', 'Time', 'Summary', 'Text'],\n",
       "      dtype='object')"
      ]
     },
     "execution_count": 400,
     "metadata": {},
     "output_type": "execute_result"
    }
   ],
   "source": [
    "df_valid.columns"
   ]
  },
  {
   "cell_type": "code",
   "execution_count": 401,
   "id": "b0de82a5-a933-4b68-8d96-2248d5a3d524",
   "metadata": {},
   "outputs": [
    {
     "data": {
      "text/plain": [
       "0         False\n",
       "1         False\n",
       "2         False\n",
       "3         False\n",
       "4         False\n",
       "          ...  \n",
       "568449    False\n",
       "568450    False\n",
       "568451    False\n",
       "568452    False\n",
       "568453    False\n",
       "Length: 568452, dtype: bool"
      ]
     },
     "execution_count": 401,
     "metadata": {},
     "output_type": "execute_result"
    }
   ],
   "source": [
    "# Checking for duplicate rows\n",
    "df_valid.duplicated(['UserId', 'ProfileName', 'Time', 'Text']) #columns that determine duplicates"
   ]
  },
  {
   "cell_type": "code",
   "execution_count": 402,
   "id": "bf7aa812-cc78-4fe6-9ce6-64c116e9cc52",
   "metadata": {},
   "outputs": [
    {
     "data": {
      "text/html": [
       "<div>\n",
       "<style scoped>\n",
       "    .dataframe tbody tr th:only-of-type {\n",
       "        vertical-align: middle;\n",
       "    }\n",
       "\n",
       "    .dataframe tbody tr th {\n",
       "        vertical-align: top;\n",
       "    }\n",
       "\n",
       "    .dataframe thead th {\n",
       "        text-align: right;\n",
       "    }\n",
       "</style>\n",
       "<table border=\"1\" class=\"dataframe\">\n",
       "  <thead>\n",
       "    <tr style=\"text-align: right;\">\n",
       "      <th></th>\n",
       "      <th>Id</th>\n",
       "      <th>ProductId</th>\n",
       "      <th>UserId</th>\n",
       "      <th>ProfileName</th>\n",
       "      <th>HelpfulnessNumerator</th>\n",
       "      <th>HelpfulnessDenominator</th>\n",
       "      <th>Score</th>\n",
       "      <th>Time</th>\n",
       "      <th>Summary</th>\n",
       "      <th>Text</th>\n",
       "    </tr>\n",
       "  </thead>\n",
       "  <tbody>\n",
       "    <tr>\n",
       "      <th>29</th>\n",
       "      <td>30</td>\n",
       "      <td>B0001PB9FY</td>\n",
       "      <td>A3HDKO7OW0QNK4</td>\n",
       "      <td>Canadian Fan</td>\n",
       "      <td>1</td>\n",
       "      <td>1</td>\n",
       "      <td>5</td>\n",
       "      <td>1107820800</td>\n",
       "      <td>The Best Hot Sauce in the World</td>\n",
       "      <td>I don't know if it's the cactus or the tequila...</td>\n",
       "    </tr>\n",
       "    <tr>\n",
       "      <th>574</th>\n",
       "      <td>575</td>\n",
       "      <td>B000G6RYNE</td>\n",
       "      <td>A3PJZ8TU8FDQ1K</td>\n",
       "      <td>Jared Castle</td>\n",
       "      <td>2</td>\n",
       "      <td>2</td>\n",
       "      <td>5</td>\n",
       "      <td>1231718400</td>\n",
       "      <td>One bite and you'll become a \"chippoisseur\"</td>\n",
       "      <td>I'm addicted to salty and tangy flavors, so wh...</td>\n",
       "    </tr>\n",
       "    <tr>\n",
       "      <th>1973</th>\n",
       "      <td>1974</td>\n",
       "      <td>B0017165OG</td>\n",
       "      <td>A2EPNS38TTLZYN</td>\n",
       "      <td>tedebear</td>\n",
       "      <td>0</td>\n",
       "      <td>0</td>\n",
       "      <td>3</td>\n",
       "      <td>1312675200</td>\n",
       "      <td>Pok Chops</td>\n",
       "      <td>The pork chops from Omaha Steaks were very tas...</td>\n",
       "    </tr>\n",
       "    <tr>\n",
       "      <th>2309</th>\n",
       "      <td>2310</td>\n",
       "      <td>B0001VWE0M</td>\n",
       "      <td>AQM74O8Z4FMS0</td>\n",
       "      <td>Sunshine</td>\n",
       "      <td>0</td>\n",
       "      <td>0</td>\n",
       "      <td>2</td>\n",
       "      <td>1127606400</td>\n",
       "      <td>Below standard</td>\n",
       "      <td>Too much of the white pith on this orange peel...</td>\n",
       "    </tr>\n",
       "    <tr>\n",
       "      <th>2323</th>\n",
       "      <td>2324</td>\n",
       "      <td>B0001VWE0C</td>\n",
       "      <td>AQM74O8Z4FMS0</td>\n",
       "      <td>Sunshine</td>\n",
       "      <td>0</td>\n",
       "      <td>0</td>\n",
       "      <td>2</td>\n",
       "      <td>1127606400</td>\n",
       "      <td>Below standard</td>\n",
       "      <td>Too much of the white pith on this orange peel...</td>\n",
       "    </tr>\n",
       "    <tr>\n",
       "      <th>...</th>\n",
       "      <td>...</td>\n",
       "      <td>...</td>\n",
       "      <td>...</td>\n",
       "      <td>...</td>\n",
       "      <td>...</td>\n",
       "      <td>...</td>\n",
       "      <td>...</td>\n",
       "      <td>...</td>\n",
       "      <td>...</td>\n",
       "      <td>...</td>\n",
       "    </tr>\n",
       "    <tr>\n",
       "      <th>568409</th>\n",
       "      <td>568410</td>\n",
       "      <td>B0018CLWM4</td>\n",
       "      <td>A2PE0AGWV6OPL7</td>\n",
       "      <td>Dark Water Mermaid</td>\n",
       "      <td>3</td>\n",
       "      <td>3</td>\n",
       "      <td>5</td>\n",
       "      <td>1309651200</td>\n",
       "      <td>Quality &amp; affordable food</td>\n",
       "      <td>I was very pleased with the ingredient quality...</td>\n",
       "    </tr>\n",
       "    <tr>\n",
       "      <th>568410</th>\n",
       "      <td>568411</td>\n",
       "      <td>B0018CLWM4</td>\n",
       "      <td>A88HLWDCU57WG</td>\n",
       "      <td>R28</td>\n",
       "      <td>2</td>\n",
       "      <td>2</td>\n",
       "      <td>5</td>\n",
       "      <td>1332979200</td>\n",
       "      <td>litter box</td>\n",
       "      <td>My main reason for the five star review has to...</td>\n",
       "    </tr>\n",
       "    <tr>\n",
       "      <th>568411</th>\n",
       "      <td>568412</td>\n",
       "      <td>B0018CLWM4</td>\n",
       "      <td>AUX1HSY8FX55S</td>\n",
       "      <td>DAW</td>\n",
       "      <td>1</td>\n",
       "      <td>1</td>\n",
       "      <td>5</td>\n",
       "      <td>1319500800</td>\n",
       "      <td>Happy Camper</td>\n",
       "      <td>I bought this to try on two registered Maine C...</td>\n",
       "    </tr>\n",
       "    <tr>\n",
       "      <th>568412</th>\n",
       "      <td>568413</td>\n",
       "      <td>B0018CLWM4</td>\n",
       "      <td>AVZ2OZ479Q9E8</td>\n",
       "      <td>Ai Ling Chow</td>\n",
       "      <td>0</td>\n",
       "      <td>0</td>\n",
       "      <td>5</td>\n",
       "      <td>1336435200</td>\n",
       "      <td>Two Siberians like it!</td>\n",
       "      <td>When we brought home two 3-month-old purebred ...</td>\n",
       "    </tr>\n",
       "    <tr>\n",
       "      <th>568413</th>\n",
       "      <td>568414</td>\n",
       "      <td>B0018CLWM4</td>\n",
       "      <td>AI3Y26HLPYW4L</td>\n",
       "      <td>kimosabe</td>\n",
       "      <td>1</td>\n",
       "      <td>2</td>\n",
       "      <td>2</td>\n",
       "      <td>1330041600</td>\n",
       "      <td>premium edge cat food</td>\n",
       "      <td>My cats don't like it. what else can I say to ...</td>\n",
       "    </tr>\n",
       "  </tbody>\n",
       "</table>\n",
       "<p>174521 rows × 10 columns</p>\n",
       "</div>"
      ],
      "text/plain": [
       "            Id   ProductId          UserId         ProfileName  \\\n",
       "29          30  B0001PB9FY  A3HDKO7OW0QNK4        Canadian Fan   \n",
       "574        575  B000G6RYNE  A3PJZ8TU8FDQ1K        Jared Castle   \n",
       "1973      1974  B0017165OG  A2EPNS38TTLZYN            tedebear   \n",
       "2309      2310  B0001VWE0M   AQM74O8Z4FMS0            Sunshine   \n",
       "2323      2324  B0001VWE0C   AQM74O8Z4FMS0            Sunshine   \n",
       "...        ...         ...             ...                 ...   \n",
       "568409  568410  B0018CLWM4  A2PE0AGWV6OPL7  Dark Water Mermaid   \n",
       "568410  568411  B0018CLWM4   A88HLWDCU57WG                 R28   \n",
       "568411  568412  B0018CLWM4   AUX1HSY8FX55S                 DAW   \n",
       "568412  568413  B0018CLWM4   AVZ2OZ479Q9E8        Ai Ling Chow   \n",
       "568413  568414  B0018CLWM4   AI3Y26HLPYW4L            kimosabe   \n",
       "\n",
       "        HelpfulnessNumerator  HelpfulnessDenominator  Score        Time  \\\n",
       "29                         1                       1      5  1107820800   \n",
       "574                        2                       2      5  1231718400   \n",
       "1973                       0                       0      3  1312675200   \n",
       "2309                       0                       0      2  1127606400   \n",
       "2323                       0                       0      2  1127606400   \n",
       "...                      ...                     ...    ...         ...   \n",
       "568409                     3                       3      5  1309651200   \n",
       "568410                     2                       2      5  1332979200   \n",
       "568411                     1                       1      5  1319500800   \n",
       "568412                     0                       0      5  1336435200   \n",
       "568413                     1                       2      2  1330041600   \n",
       "\n",
       "                                            Summary  \\\n",
       "29                  The Best Hot Sauce in the World   \n",
       "574     One bite and you'll become a \"chippoisseur\"   \n",
       "1973                                      Pok Chops   \n",
       "2309                                 Below standard   \n",
       "2323                                 Below standard   \n",
       "...                                             ...   \n",
       "568409                    Quality & affordable food   \n",
       "568410                                   litter box   \n",
       "568411                                 Happy Camper   \n",
       "568412                       Two Siberians like it!   \n",
       "568413                        premium edge cat food   \n",
       "\n",
       "                                                     Text  \n",
       "29      I don't know if it's the cactus or the tequila...  \n",
       "574     I'm addicted to salty and tangy flavors, so wh...  \n",
       "1973    The pork chops from Omaha Steaks were very tas...  \n",
       "2309    Too much of the white pith on this orange peel...  \n",
       "2323    Too much of the white pith on this orange peel...  \n",
       "...                                                   ...  \n",
       "568409  I was very pleased with the ingredient quality...  \n",
       "568410  My main reason for the five star review has to...  \n",
       "568411  I bought this to try on two registered Maine C...  \n",
       "568412  When we brought home two 3-month-old purebred ...  \n",
       "568413  My cats don't like it. what else can I say to ...  \n",
       "\n",
       "[174521 rows x 10 columns]"
      ]
     },
     "execution_count": 402,
     "metadata": {},
     "output_type": "execute_result"
    }
   ],
   "source": [
    "df_valid[df_valid.duplicated(['UserId', 'ProfileName' ,'Time' ,'Text'])]"
   ]
  },
  {
   "cell_type": "code",
   "execution_count": 403,
   "id": "72ea11aa-b11a-4d78-88bb-0eb52b430626",
   "metadata": {},
   "outputs": [
    {
     "data": {
      "text/plain": [
       "'\\nThis means that there are 174521 rows of duplicate data that we have to drop\\n'"
      ]
     },
     "execution_count": 403,
     "metadata": {},
     "output_type": "execute_result"
    }
   ],
   "source": [
    "'''\n",
    "This means that there are 174521 rows of duplicate data that we have to drop\n",
    "'''"
   ]
  },
  {
   "cell_type": "code",
   "execution_count": 404,
   "id": "00411056-97ba-476b-964a-d50fefd7f03e",
   "metadata": {},
   "outputs": [],
   "source": [
    "data = df_valid.drop_duplicates(subset=['UserId', 'ProfileName' ,'Time' ,'Text'])"
   ]
  },
  {
   "cell_type": "code",
   "execution_count": 405,
   "id": "77b31e9b-04a6-4558-a483-26ad7b53bf68",
   "metadata": {},
   "outputs": [
    {
     "data": {
      "text/plain": [
       "(393931, 10)"
      ]
     },
     "execution_count": 405,
     "metadata": {},
     "output_type": "execute_result"
    }
   ],
   "source": [
    "data.shape"
   ]
  },
  {
   "cell_type": "code",
   "execution_count": 406,
   "id": "4f731036-abe9-4766-bc72-76eefd24fa42",
   "metadata": {},
   "outputs": [
    {
     "data": {
      "text/plain": [
       "Id                         int64\n",
       "ProductId                 object\n",
       "UserId                    object\n",
       "ProfileName               object\n",
       "HelpfulnessNumerator       int64\n",
       "HelpfulnessDenominator     int64\n",
       "Score                      int64\n",
       "Time                       int64\n",
       "Summary                   object\n",
       "Text                      object\n",
       "dtype: object"
      ]
     },
     "execution_count": 406,
     "metadata": {},
     "output_type": "execute_result"
    }
   ],
   "source": [
    "data.dtypes"
   ]
  },
  {
   "cell_type": "code",
   "execution_count": 407,
   "id": "a1530272-f87d-443a-8b62-070718c83f2a",
   "metadata": {},
   "outputs": [],
   "source": [
    "# Converting 'Time' from int64 to date-time"
   ]
  },
  {
   "cell_type": "code",
   "execution_count": 408,
   "id": "4be0e8e3-e468-4f6b-8d4b-845aff5aa0a7",
   "metadata": {},
   "outputs": [
    {
     "data": {
      "text/plain": [
       "0         1303862400\n",
       "1         1346976000\n",
       "2         1219017600\n",
       "3         1307923200\n",
       "4         1350777600\n",
       "             ...    \n",
       "568449    1299628800\n",
       "568450    1331251200\n",
       "568451    1329782400\n",
       "568452    1331596800\n",
       "568453    1338422400\n",
       "Name: Time, Length: 393931, dtype: int64"
      ]
     },
     "execution_count": 408,
     "metadata": {},
     "output_type": "execute_result"
    }
   ],
   "source": [
    "data['Time']"
   ]
  },
  {
   "cell_type": "code",
   "execution_count": 409,
   "id": "c99bf153-d78d-4dfd-8ab4-21beba758b3c",
   "metadata": {},
   "outputs": [],
   "source": [
    "data['Time'] = pd.to_datetime(data['Time'] , unit='s')"
   ]
  },
  {
   "cell_type": "code",
   "execution_count": 410,
   "id": "aaba1c05-a1b3-4848-86bb-36725fedf6e4",
   "metadata": {},
   "outputs": [],
   "source": [
    "import warnings\n",
    "from warnings import filterwarnings\n",
    "filterwarnings('ignore')"
   ]
  },
  {
   "cell_type": "markdown",
   "id": "3a223586-2c0c-4b30-805b-6b15260ddd98",
   "metadata": {},
   "source": [
    "## 3. Analysing To What User Amazon Can Recommend More Products"
   ]
  },
  {
   "cell_type": "markdown",
   "id": "67a5c9d4-5dca-475d-beef-804c82a700ff",
   "metadata": {},
   "source": [
    "#### Amazon can recommend more products to those who are going to buy more, or to an individual with a better conversion rate"
   ]
  },
  {
   "cell_type": "code",
   "execution_count": 413,
   "id": "a4bde795-813a-4e5c-b298-2444cace5921",
   "metadata": {},
   "outputs": [
    {
     "data": {
      "text/plain": [
       "256059"
      ]
     },
     "execution_count": 413,
     "metadata": {},
     "output_type": "execute_result"
    }
   ],
   "source": [
    "# Total no. of users\n",
    "data['UserId'].nunique()"
   ]
  },
  {
   "cell_type": "markdown",
   "id": "ca12196e-cfde-4fec-966f-8f76b8156b98",
   "metadata": {},
   "source": [
    "##### Determine the number of summaries, number of texts, average of scores, and number of products purchased for each UserId"
   ]
  },
  {
   "cell_type": "code",
   "execution_count": 415,
   "id": "91599723-c463-4c9f-978b-f88f4e448dc0",
   "metadata": {},
   "outputs": [],
   "source": [
    "recommend_df = data.groupby(['UserId']).agg({'Summary':'count' , 'Text':'count' , 'Score':'mean' ,'ProductId':'count'  }).sort_values(by='ProductId' , ascending=False)"
   ]
  },
  {
   "cell_type": "code",
   "execution_count": 416,
   "id": "bec8c639-bf67-4ddb-99eb-2dbc8eab5271",
   "metadata": {},
   "outputs": [],
   "source": [
    "recommend_df.columns = ['No_Of_Summaries' , 'No_Text' , 'Avg_Score' , 'No_Of_Prods_Purchased']"
   ]
  },
  {
   "cell_type": "code",
   "execution_count": 417,
   "id": "3ae14d73-8f91-4baf-9f21-e7fbc06235a0",
   "metadata": {},
   "outputs": [
    {
     "data": {
      "text/html": [
       "<div>\n",
       "<style scoped>\n",
       "    .dataframe tbody tr th:only-of-type {\n",
       "        vertical-align: middle;\n",
       "    }\n",
       "\n",
       "    .dataframe tbody tr th {\n",
       "        vertical-align: top;\n",
       "    }\n",
       "\n",
       "    .dataframe thead th {\n",
       "        text-align: right;\n",
       "    }\n",
       "</style>\n",
       "<table border=\"1\" class=\"dataframe\">\n",
       "  <thead>\n",
       "    <tr style=\"text-align: right;\">\n",
       "      <th></th>\n",
       "      <th>No_Of_Summaries</th>\n",
       "      <th>No_Text</th>\n",
       "      <th>Avg_Score</th>\n",
       "      <th>No_Of_Prods_Purchased</th>\n",
       "    </tr>\n",
       "    <tr>\n",
       "      <th>UserId</th>\n",
       "      <th></th>\n",
       "      <th></th>\n",
       "      <th></th>\n",
       "      <th></th>\n",
       "    </tr>\n",
       "  </thead>\n",
       "  <tbody>\n",
       "    <tr>\n",
       "      <th>AY12DBB0U420B</th>\n",
       "      <td>329</td>\n",
       "      <td>329</td>\n",
       "      <td>4.659574</td>\n",
       "      <td>329</td>\n",
       "    </tr>\n",
       "    <tr>\n",
       "      <th>A3OXHLG6DIBRW8</th>\n",
       "      <td>278</td>\n",
       "      <td>278</td>\n",
       "      <td>4.546763</td>\n",
       "      <td>278</td>\n",
       "    </tr>\n",
       "    <tr>\n",
       "      <th>A281NPSIMI1C2R</th>\n",
       "      <td>259</td>\n",
       "      <td>259</td>\n",
       "      <td>4.787645</td>\n",
       "      <td>259</td>\n",
       "    </tr>\n",
       "    <tr>\n",
       "      <th>A1YUL9PCJR3JTY</th>\n",
       "      <td>214</td>\n",
       "      <td>214</td>\n",
       "      <td>4.621495</td>\n",
       "      <td>214</td>\n",
       "    </tr>\n",
       "    <tr>\n",
       "      <th>A1Z54EM24Y40LL</th>\n",
       "      <td>211</td>\n",
       "      <td>211</td>\n",
       "      <td>4.383886</td>\n",
       "      <td>211</td>\n",
       "    </tr>\n",
       "  </tbody>\n",
       "</table>\n",
       "</div>"
      ],
      "text/plain": [
       "                No_Of_Summaries  No_Text  Avg_Score  No_Of_Prods_Purchased\n",
       "UserId                                                                    \n",
       "AY12DBB0U420B               329      329   4.659574                    329\n",
       "A3OXHLG6DIBRW8              278      278   4.546763                    278\n",
       "A281NPSIMI1C2R              259      259   4.787645                    259\n",
       "A1YUL9PCJR3JTY              214      214   4.621495                    214\n",
       "A1Z54EM24Y40LL              211      211   4.383886                    211"
      ]
     },
     "execution_count": 417,
     "metadata": {},
     "output_type": "execute_result"
    }
   ],
   "source": [
    "recommend_df.head()"
   ]
  },
  {
   "cell_type": "markdown",
   "id": "8c0f7967-5428-4fd1-9121-094350a2cd0d",
   "metadata": {},
   "source": [
    "##### Determining the Top 10 Users"
   ]
  },
  {
   "cell_type": "code",
   "execution_count": 419,
   "id": "cd2c229d-5605-4909-b611-0f767ace5d52",
   "metadata": {},
   "outputs": [
    {
     "data": {
      "image/png": "[encoded data removed]",
      "text/plain": [
       "<Figure size 640x480 with 1 Axes>"
      ]
     },
     "metadata": {},
     "output_type": "display_data"
    }
   ],
   "source": [
    "plt.bar(recommend_df.index[0:10] , recommend_df['No_Of_Prods_Purchased'][0:10].values)\n",
    "plt.xticks(rotation='vertical')\n",
    "plt.title(\"Products Purchased\", color = \"white\")\n",
    "plt.xlabel(\"UserID\", color = \"white\")\n",
    "plt.ylabel(\"Number of Products\", color = \"white\")\n",
    "plt.show()"
   ]
  },
  {
   "cell_type": "code",
   "execution_count": null,
   "id": "2c2904f1-0960-4d5e-805d-748235cc62ae",
   "metadata": {},
   "outputs": [],
   "source": [
    "'''\n",
    "Inference: These are the Top 10 Users with the highest number of products purchased. Amazon should recommend more products to them as\n",
    "there is a high likelihood that these people are going to purchase more.\n",
    "'''"
   ]
  },
  {
   "cell_type": "markdown",
   "id": "b5d8ca27-4160-46e2-a949-2fbd082dccb8",
   "metadata": {},
   "source": [
    "## 4. Determining Which Product Has A Good Number Of Reviews"
   ]
  },
  {
   "cell_type": "code",
   "execution_count": 422,
   "id": "a0cd5eef-4980-4855-bd12-3ff30954e4c1",
   "metadata": {},
   "outputs": [
    {
     "data": {
      "text/plain": [
       "67624"
      ]
     },
     "execution_count": 422,
     "metadata": {},
     "output_type": "execute_result"
    }
   ],
   "source": [
    "# Number of Products in the dataset\n",
    "len(data['ProductId'].unique()) "
   ]
  },
  {
   "cell_type": "markdown",
   "id": "5ac7e67d-c680-4871-8555-4ba94856932e",
   "metadata": {},
   "source": [
    "#### Finding The Highest Sold Products"
   ]
  },
  {
   "cell_type": "code",
   "execution_count": 424,
   "id": "c015d835-4d12-41cb-894d-40f9e466f66f",
   "metadata": {},
   "outputs": [],
   "source": [
    "prod_count = data['ProductId'].value_counts()"
   ]
  },
  {
   "cell_type": "code",
   "execution_count": 425,
   "id": "3eca51ac-7ee3-4ca5-b1f7-bbb8625e0157",
   "metadata": {},
   "outputs": [
    {
     "data": {
      "text/plain": [
       "ProductId\n",
       "B007JFMH8M    912\n",
       "B002QWP89S    630\n",
       "B003B3OOPA    622\n",
       "B001EO5Q64    566\n",
       "B0013NUGDE    558\n",
       "             ... \n",
       "B002DNX4GO      1\n",
       "B000FM2YU2      1\n",
       "B001M1VA32      1\n",
       "B009858H6M      1\n",
       "B001LR2CU2      1\n",
       "Name: count, Length: 67624, dtype: int64"
      ]
     },
     "execution_count": 425,
     "metadata": {},
     "output_type": "execute_result"
    }
   ],
   "source": [
    "prod_count"
   ]
  },
  {
   "cell_type": "markdown",
   "id": "3ba21363-b7eb-4b3b-bb89-6525ea069562",
   "metadata": {},
   "source": [
    "#### Let a product be considered highly sold if it is sold at least 500 times"
   ]
  },
  {
   "cell_type": "code",
   "execution_count": 427,
   "id": "e86cc782-1ae9-4783-afbc-b160e0671194",
   "metadata": {},
   "outputs": [
    {
     "data": {
      "text/html": [
       "<div>\n",
       "<style scoped>\n",
       "    .dataframe tbody tr th:only-of-type {\n",
       "        vertical-align: middle;\n",
       "    }\n",
       "\n",
       "    .dataframe tbody tr th {\n",
       "        vertical-align: top;\n",
       "    }\n",
       "\n",
       "    .dataframe thead th {\n",
       "        text-align: right;\n",
       "    }\n",
       "</style>\n",
       "<table border=\"1\" class=\"dataframe\">\n",
       "  <thead>\n",
       "    <tr style=\"text-align: right;\">\n",
       "      <th></th>\n",
       "      <th>count</th>\n",
       "    </tr>\n",
       "    <tr>\n",
       "      <th>ProductId</th>\n",
       "      <th></th>\n",
       "    </tr>\n",
       "  </thead>\n",
       "  <tbody>\n",
       "    <tr>\n",
       "      <th>B007JFMH8M</th>\n",
       "      <td>912</td>\n",
       "    </tr>\n",
       "    <tr>\n",
       "      <th>B002QWP89S</th>\n",
       "      <td>630</td>\n",
       "    </tr>\n",
       "    <tr>\n",
       "      <th>B003B3OOPA</th>\n",
       "      <td>622</td>\n",
       "    </tr>\n",
       "    <tr>\n",
       "      <th>B001EO5Q64</th>\n",
       "      <td>566</td>\n",
       "    </tr>\n",
       "    <tr>\n",
       "      <th>B0013NUGDE</th>\n",
       "      <td>558</td>\n",
       "    </tr>\n",
       "    <tr>\n",
       "      <th>B000KV61FC</th>\n",
       "      <td>556</td>\n",
       "    </tr>\n",
       "    <tr>\n",
       "      <th>B000UBD88A</th>\n",
       "      <td>542</td>\n",
       "    </tr>\n",
       "    <tr>\n",
       "      <th>B000NMJWZO</th>\n",
       "      <td>542</td>\n",
       "    </tr>\n",
       "    <tr>\n",
       "      <th>B005K4Q37A</th>\n",
       "      <td>541</td>\n",
       "    </tr>\n",
       "    <tr>\n",
       "      <th>B0090X8IPM</th>\n",
       "      <td>530</td>\n",
       "    </tr>\n",
       "    <tr>\n",
       "      <th>B005ZBZLT4</th>\n",
       "      <td>505</td>\n",
       "    </tr>\n",
       "  </tbody>\n",
       "</table>\n",
       "</div>"
      ],
      "text/plain": [
       "            count\n",
       "ProductId        \n",
       "B007JFMH8M    912\n",
       "B002QWP89S    630\n",
       "B003B3OOPA    622\n",
       "B001EO5Q64    566\n",
       "B0013NUGDE    558\n",
       "B000KV61FC    556\n",
       "B000UBD88A    542\n",
       "B000NMJWZO    542\n",
       "B005K4Q37A    541\n",
       "B0090X8IPM    530\n",
       "B005ZBZLT4    505"
      ]
     },
     "execution_count": 427,
     "metadata": {},
     "output_type": "execute_result"
    }
   ],
   "source": [
    "most_freq = prod_count[prod_count >500]\n",
    "most_freq.to_frame()"
   ]
  },
  {
   "cell_type": "code",
   "execution_count": 428,
   "id": "b77d43b7-dcc4-47f8-9155-c1780df95e82",
   "metadata": {},
   "outputs": [
    {
     "data": {
      "text/plain": [
       "Index(['B007JFMH8M', 'B002QWP89S', 'B003B3OOPA', 'B001EO5Q64', 'B0013NUGDE',\n",
       "       'B000KV61FC', 'B000UBD88A', 'B000NMJWZO', 'B005K4Q37A', 'B0090X8IPM',\n",
       "       'B005ZBZLT4'],\n",
       "      dtype='object', name='ProductId')"
      ]
     },
     "execution_count": 428,
     "metadata": {},
     "output_type": "execute_result"
    }
   ],
   "source": [
    "freq_prod_ids = most_freq.index\n",
    "freq_prod_ids"
   ]
  },
  {
   "cell_type": "code",
   "execution_count": 429,
   "id": "89f36f2a-6fc4-4f87-ad32-be011a68bc72",
   "metadata": {},
   "outputs": [
    {
     "data": {
      "text/html": [
       "<div>\n",
       "<style scoped>\n",
       "    .dataframe tbody tr th:only-of-type {\n",
       "        vertical-align: middle;\n",
       "    }\n",
       "\n",
       "    .dataframe tbody tr th {\n",
       "        vertical-align: top;\n",
       "    }\n",
       "\n",
       "    .dataframe thead th {\n",
       "        text-align: right;\n",
       "    }\n",
       "</style>\n",
       "<table border=\"1\" class=\"dataframe\">\n",
       "  <thead>\n",
       "    <tr style=\"text-align: right;\">\n",
       "      <th></th>\n",
       "      <th>Id</th>\n",
       "      <th>ProductId</th>\n",
       "      <th>UserId</th>\n",
       "      <th>ProfileName</th>\n",
       "      <th>HelpfulnessNumerator</th>\n",
       "      <th>HelpfulnessDenominator</th>\n",
       "      <th>Score</th>\n",
       "      <th>Time</th>\n",
       "      <th>Summary</th>\n",
       "      <th>Text</th>\n",
       "    </tr>\n",
       "  </thead>\n",
       "  <tbody>\n",
       "    <tr>\n",
       "      <th>20982</th>\n",
       "      <td>20983</td>\n",
       "      <td>B002QWP89S</td>\n",
       "      <td>A21U4DR8M6I9QN</td>\n",
       "      <td>K. M Merrill \"justine\"</td>\n",
       "      <td>1</td>\n",
       "      <td>1</td>\n",
       "      <td>5</td>\n",
       "      <td>2011-10-18</td>\n",
       "      <td>addictive! but works for night coughing in dogs</td>\n",
       "      <td>my 12 year old sheltie has chronic brochotitis...</td>\n",
       "    </tr>\n",
       "    <tr>\n",
       "      <th>20983</th>\n",
       "      <td>20984</td>\n",
       "      <td>B002QWP89S</td>\n",
       "      <td>A17TDUBB4Z1PEC</td>\n",
       "      <td>jaded_green</td>\n",
       "      <td>1</td>\n",
       "      <td>1</td>\n",
       "      <td>5</td>\n",
       "      <td>2011-10-14</td>\n",
       "      <td>genuine Greenies best price</td>\n",
       "      <td>These are genuine Greenies product, not a knoc...</td>\n",
       "    </tr>\n",
       "    <tr>\n",
       "      <th>20984</th>\n",
       "      <td>20985</td>\n",
       "      <td>B002QWP89S</td>\n",
       "      <td>ABQH3WAWMSMBH</td>\n",
       "      <td>tenisbrat87</td>\n",
       "      <td>1</td>\n",
       "      <td>1</td>\n",
       "      <td>5</td>\n",
       "      <td>2011-09-28</td>\n",
       "      <td>Perfect for our little doggies</td>\n",
       "      <td>Our dogs love Greenies, but of course, which d...</td>\n",
       "    </tr>\n",
       "    <tr>\n",
       "      <th>20985</th>\n",
       "      <td>20986</td>\n",
       "      <td>B002QWP89S</td>\n",
       "      <td>AVTY5M74VA1BJ</td>\n",
       "      <td>tarotqueen</td>\n",
       "      <td>1</td>\n",
       "      <td>1</td>\n",
       "      <td>5</td>\n",
       "      <td>2011-09-24</td>\n",
       "      <td>dogs love greenies</td>\n",
       "      <td>What can I say, dogs love greenies. They begg ...</td>\n",
       "    </tr>\n",
       "    <tr>\n",
       "      <th>20986</th>\n",
       "      <td>20987</td>\n",
       "      <td>B002QWP89S</td>\n",
       "      <td>A13TNN54ZEAUB1</td>\n",
       "      <td>dcz2221</td>\n",
       "      <td>1</td>\n",
       "      <td>1</td>\n",
       "      <td>5</td>\n",
       "      <td>2011-09-23</td>\n",
       "      <td>Greenies review</td>\n",
       "      <td>This review is for a box of Greenies Lite for ...</td>\n",
       "    </tr>\n",
       "    <tr>\n",
       "      <th>...</th>\n",
       "      <td>...</td>\n",
       "      <td>...</td>\n",
       "      <td>...</td>\n",
       "      <td>...</td>\n",
       "      <td>...</td>\n",
       "      <td>...</td>\n",
       "      <td>...</td>\n",
       "      <td>...</td>\n",
       "      <td>...</td>\n",
       "      <td>...</td>\n",
       "    </tr>\n",
       "    <tr>\n",
       "      <th>563878</th>\n",
       "      <td>563879</td>\n",
       "      <td>B007JFMH8M</td>\n",
       "      <td>A366PSH7KFLRPB</td>\n",
       "      <td>TheRosySnail</td>\n",
       "      <td>0</td>\n",
       "      <td>0</td>\n",
       "      <td>5</td>\n",
       "      <td>2012-07-29</td>\n",
       "      <td>Yummy!</td>\n",
       "      <td>I loved these cookies and so did my kids. You ...</td>\n",
       "    </tr>\n",
       "    <tr>\n",
       "      <th>563879</th>\n",
       "      <td>563880</td>\n",
       "      <td>B007JFMH8M</td>\n",
       "      <td>A2KV6EYQPKJRR5</td>\n",
       "      <td>Kelley</td>\n",
       "      <td>0</td>\n",
       "      <td>0</td>\n",
       "      <td>5</td>\n",
       "      <td>2012-07-28</td>\n",
       "      <td>Quaker Soft Baked Cookies</td>\n",
       "      <td>This is a great tasting cookie. It is very sof...</td>\n",
       "    </tr>\n",
       "    <tr>\n",
       "      <th>563880</th>\n",
       "      <td>563881</td>\n",
       "      <td>B007JFMH8M</td>\n",
       "      <td>A3O7REI0OSV89M</td>\n",
       "      <td>Esme</td>\n",
       "      <td>0</td>\n",
       "      <td>0</td>\n",
       "      <td>4</td>\n",
       "      <td>2012-07-28</td>\n",
       "      <td>Delicious!</td>\n",
       "      <td>These are great for a quick snack! They are sa...</td>\n",
       "    </tr>\n",
       "    <tr>\n",
       "      <th>563881</th>\n",
       "      <td>563882</td>\n",
       "      <td>B007JFMH8M</td>\n",
       "      <td>A9JS5GQQ6GIQT</td>\n",
       "      <td>Syne</td>\n",
       "      <td>0</td>\n",
       "      <td>0</td>\n",
       "      <td>5</td>\n",
       "      <td>2012-07-28</td>\n",
       "      <td>yummy</td>\n",
       "      <td>I love the Quaker soft baked cookies.  The rea...</td>\n",
       "    </tr>\n",
       "    <tr>\n",
       "      <th>563882</th>\n",
       "      <td>563883</td>\n",
       "      <td>B007JFMH8M</td>\n",
       "      <td>AMAVEZAGCH52H</td>\n",
       "      <td>Tangela</td>\n",
       "      <td>0</td>\n",
       "      <td>0</td>\n",
       "      <td>5</td>\n",
       "      <td>2012-07-28</td>\n",
       "      <td>Quaker Soft Baked Cookie</td>\n",
       "      <td>This cookie is really good and works really we...</td>\n",
       "    </tr>\n",
       "  </tbody>\n",
       "</table>\n",
       "<p>6504 rows × 10 columns</p>\n",
       "</div>"
      ],
      "text/plain": [
       "            Id   ProductId          UserId             ProfileName  \\\n",
       "20982    20983  B002QWP89S  A21U4DR8M6I9QN  K. M Merrill \"justine\"   \n",
       "20983    20984  B002QWP89S  A17TDUBB4Z1PEC             jaded_green   \n",
       "20984    20985  B002QWP89S   ABQH3WAWMSMBH             tenisbrat87   \n",
       "20985    20986  B002QWP89S   AVTY5M74VA1BJ              tarotqueen   \n",
       "20986    20987  B002QWP89S  A13TNN54ZEAUB1                 dcz2221   \n",
       "...        ...         ...             ...                     ...   \n",
       "563878  563879  B007JFMH8M  A366PSH7KFLRPB            TheRosySnail   \n",
       "563879  563880  B007JFMH8M  A2KV6EYQPKJRR5                  Kelley   \n",
       "563880  563881  B007JFMH8M  A3O7REI0OSV89M                    Esme   \n",
       "563881  563882  B007JFMH8M   A9JS5GQQ6GIQT                    Syne   \n",
       "563882  563883  B007JFMH8M   AMAVEZAGCH52H                 Tangela   \n",
       "\n",
       "        HelpfulnessNumerator  HelpfulnessDenominator  Score       Time  \\\n",
       "20982                      1                       1      5 2011-10-18   \n",
       "20983                      1                       1      5 2011-10-14   \n",
       "20984                      1                       1      5 2011-09-28   \n",
       "20985                      1                       1      5 2011-09-24   \n",
       "20986                      1                       1      5 2011-09-23   \n",
       "...                      ...                     ...    ...        ...   \n",
       "563878                     0                       0      5 2012-07-29   \n",
       "563879                     0                       0      5 2012-07-28   \n",
       "563880                     0                       0      4 2012-07-28   \n",
       "563881                     0                       0      5 2012-07-28   \n",
       "563882                     0                       0      5 2012-07-28   \n",
       "\n",
       "                                                Summary  \\\n",
       "20982   addictive! but works for night coughing in dogs   \n",
       "20983                       genuine Greenies best price   \n",
       "20984                    Perfect for our little doggies   \n",
       "20985                                dogs love greenies   \n",
       "20986                                   Greenies review   \n",
       "...                                                 ...   \n",
       "563878                                           Yummy!   \n",
       "563879                        Quaker Soft Baked Cookies   \n",
       "563880                                       Delicious!   \n",
       "563881                                            yummy   \n",
       "563882                         Quaker Soft Baked Cookie   \n",
       "\n",
       "                                                     Text  \n",
       "20982   my 12 year old sheltie has chronic brochotitis...  \n",
       "20983   These are genuine Greenies product, not a knoc...  \n",
       "20984   Our dogs love Greenies, but of course, which d...  \n",
       "20985   What can I say, dogs love greenies. They begg ...  \n",
       "20986   This review is for a box of Greenies Lite for ...  \n",
       "...                                                   ...  \n",
       "563878  I loved these cookies and so did my kids. You ...  \n",
       "563879  This is a great tasting cookie. It is very sof...  \n",
       "563880  These are great for a quick snack! They are sa...  \n",
       "563881  I love the Quaker soft baked cookies.  The rea...  \n",
       "563882  This cookie is really good and works really we...  \n",
       "\n",
       "[6504 rows x 10 columns]"
      ]
     },
     "execution_count": 429,
     "metadata": {},
     "output_type": "execute_result"
    }
   ],
   "source": [
    "freq_prod = data[data['ProductId'].isin(freq_prod_ids)]\n",
    "freq_prod"
   ]
  },
  {
   "cell_type": "code",
   "execution_count": 430,
   "id": "2654cfd2-bf34-4026-8069-f5157b3e53ff",
   "metadata": {},
   "outputs": [
    {
     "data": {
      "text/plain": [
       "<Axes: xlabel='count', ylabel='ProductId'>"
      ]
     },
     "execution_count": 430,
     "metadata": {},
     "output_type": "execute_result"
    },
    {
     "data": {
      "image/png": "[encoded data removed]",
      "text/plain": [
       "<Figure size 640x480 with 1 Axes>"
      ]
     },
     "metadata": {},
     "output_type": "display_data"
    }
   ],
   "source": [
    "plt.style.use('default')\n",
    "sns.countplot(y = 'ProductId' , data = freq_prod , hue='Score')"
   ]
  },
  {
   "cell_type": "markdown",
   "id": "86427c03-3752-43c7-bd24-092eb71c2046",
   "metadata": {},
   "source": [
    "## Determining If There Is A Difference Between Behavior of Frequent Viewers & Non-Frequent Viewers "
   ]
  },
  {
   "cell_type": "markdown",
   "id": "4fd3a006-ba26-4448-b22b-4d236aea9776",
   "metadata": {},
   "source": [
    "#### Let Frequent viewers be those who have bought products at least 50 times"
   ]
  },
  {
   "cell_type": "code",
   "execution_count": 433,
   "id": "6842ba4d-5294-4abf-a829-f35b943e1475",
   "metadata": {},
   "outputs": [
    {
     "data": {
      "text/plain": [
       "UserId\n",
       "AY12DBB0U420B     329\n",
       "A3OXHLG6DIBRW8    278\n",
       "A281NPSIMI1C2R    259\n",
       "A1YUL9PCJR3JTY    214\n",
       "A1Z54EM24Y40LL    211\n",
       "Name: count, dtype: int64"
      ]
     },
     "execution_count": 433,
     "metadata": {},
     "output_type": "execute_result"
    }
   ],
   "source": [
    "purchase_count = data['UserId'].value_counts()\n",
    "purchase_count.head()"
   ]
  },
  {
   "cell_type": "code",
   "execution_count": 434,
   "id": "60b37b9f-bfee-450f-80fd-05c2862c0461",
   "metadata": {},
   "outputs": [],
   "source": [
    "data['ViewerType'] = data['UserId'].apply(lambda x : \"Frequent\" if purchase_count[x]>50 else \"Not Frequent\")"
   ]
  },
  {
   "cell_type": "code",
   "execution_count": 435,
   "id": "48c6bf1a-e77f-4895-b075-fb37dd277cc8",
   "metadata": {},
   "outputs": [
    {
     "data": {
      "text/html": [
       "<div>\n",
       "<style scoped>\n",
       "    .dataframe tbody tr th:only-of-type {\n",
       "        vertical-align: middle;\n",
       "    }\n",
       "\n",
       "    .dataframe tbody tr th {\n",
       "        vertical-align: top;\n",
       "    }\n",
       "\n",
       "    .dataframe thead th {\n",
       "        text-align: right;\n",
       "    }\n",
       "</style>\n",
       "<table border=\"1\" class=\"dataframe\">\n",
       "  <thead>\n",
       "    <tr style=\"text-align: right;\">\n",
       "      <th></th>\n",
       "      <th>Id</th>\n",
       "      <th>ProductId</th>\n",
       "      <th>UserId</th>\n",
       "      <th>ProfileName</th>\n",
       "      <th>HelpfulnessNumerator</th>\n",
       "      <th>HelpfulnessDenominator</th>\n",
       "      <th>Score</th>\n",
       "      <th>Time</th>\n",
       "      <th>Summary</th>\n",
       "      <th>Text</th>\n",
       "      <th>ViewerType</th>\n",
       "    </tr>\n",
       "  </thead>\n",
       "  <tbody>\n",
       "    <tr>\n",
       "      <th>0</th>\n",
       "      <td>1</td>\n",
       "      <td>B001E4KFG0</td>\n",
       "      <td>A3SGXH7AUHU8GW</td>\n",
       "      <td>delmartian</td>\n",
       "      <td>1</td>\n",
       "      <td>1</td>\n",
       "      <td>5</td>\n",
       "      <td>2011-04-27</td>\n",
       "      <td>Good Quality Dog Food</td>\n",
       "      <td>I have bought several of the Vitality canned d...</td>\n",
       "      <td>Not Frequent</td>\n",
       "    </tr>\n",
       "    <tr>\n",
       "      <th>1</th>\n",
       "      <td>2</td>\n",
       "      <td>B00813GRG4</td>\n",
       "      <td>A1D87F6ZCVE5NK</td>\n",
       "      <td>dll pa</td>\n",
       "      <td>0</td>\n",
       "      <td>0</td>\n",
       "      <td>1</td>\n",
       "      <td>2012-09-07</td>\n",
       "      <td>Not as Advertised</td>\n",
       "      <td>Product arrived labeled as Jumbo Salted Peanut...</td>\n",
       "      <td>Not Frequent</td>\n",
       "    </tr>\n",
       "    <tr>\n",
       "      <th>2</th>\n",
       "      <td>3</td>\n",
       "      <td>B000LQOCH0</td>\n",
       "      <td>ABXLMWJIXXAIN</td>\n",
       "      <td>Natalia Corres \"Natalia Corres\"</td>\n",
       "      <td>1</td>\n",
       "      <td>1</td>\n",
       "      <td>4</td>\n",
       "      <td>2008-08-18</td>\n",
       "      <td>\"Delight\" says it all</td>\n",
       "      <td>This is a confection that has been around a fe...</td>\n",
       "      <td>Not Frequent</td>\n",
       "    </tr>\n",
       "    <tr>\n",
       "      <th>3</th>\n",
       "      <td>4</td>\n",
       "      <td>B000UA0QIQ</td>\n",
       "      <td>A395BORC6FGVXV</td>\n",
       "      <td>Karl</td>\n",
       "      <td>3</td>\n",
       "      <td>3</td>\n",
       "      <td>2</td>\n",
       "      <td>2011-06-13</td>\n",
       "      <td>Cough Medicine</td>\n",
       "      <td>If you are looking for the secret ingredient i...</td>\n",
       "      <td>Not Frequent</td>\n",
       "    </tr>\n",
       "    <tr>\n",
       "      <th>4</th>\n",
       "      <td>5</td>\n",
       "      <td>B006K2ZZ7K</td>\n",
       "      <td>A1UQRSCLF8GW1T</td>\n",
       "      <td>Michael D. Bigham \"M. Wassir\"</td>\n",
       "      <td>0</td>\n",
       "      <td>0</td>\n",
       "      <td>5</td>\n",
       "      <td>2012-10-21</td>\n",
       "      <td>Great taffy</td>\n",
       "      <td>Great taffy at a great price.  There was a wid...</td>\n",
       "      <td>Not Frequent</td>\n",
       "    </tr>\n",
       "  </tbody>\n",
       "</table>\n",
       "</div>"
      ],
      "text/plain": [
       "   Id   ProductId          UserId                      ProfileName  \\\n",
       "0   1  B001E4KFG0  A3SGXH7AUHU8GW                       delmartian   \n",
       "1   2  B00813GRG4  A1D87F6ZCVE5NK                           dll pa   \n",
       "2   3  B000LQOCH0   ABXLMWJIXXAIN  Natalia Corres \"Natalia Corres\"   \n",
       "3   4  B000UA0QIQ  A395BORC6FGVXV                             Karl   \n",
       "4   5  B006K2ZZ7K  A1UQRSCLF8GW1T    Michael D. Bigham \"M. Wassir\"   \n",
       "\n",
       "   HelpfulnessNumerator  HelpfulnessDenominator  Score       Time  \\\n",
       "0                     1                       1      5 2011-04-27   \n",
       "1                     0                       0      1 2012-09-07   \n",
       "2                     1                       1      4 2008-08-18   \n",
       "3                     3                       3      2 2011-06-13   \n",
       "4                     0                       0      5 2012-10-21   \n",
       "\n",
       "                 Summary                                               Text  \\\n",
       "0  Good Quality Dog Food  I have bought several of the Vitality canned d...   \n",
       "1      Not as Advertised  Product arrived labeled as Jumbo Salted Peanut...   \n",
       "2  \"Delight\" says it all  This is a confection that has been around a fe...   \n",
       "3         Cough Medicine  If you are looking for the secret ingredient i...   \n",
       "4            Great taffy  Great taffy at a great price.  There was a wid...   \n",
       "\n",
       "     ViewerType  \n",
       "0  Not Frequent  \n",
       "1  Not Frequent  \n",
       "2  Not Frequent  \n",
       "3  Not Frequent  \n",
       "4  Not Frequent  "
      ]
     },
     "execution_count": 435,
     "metadata": {},
     "output_type": "execute_result"
    }
   ],
   "source": [
    "data.head()"
   ]
  },
  {
   "cell_type": "code",
   "execution_count": 480,
   "id": "f275895b-4d38-4cf6-a0c1-6377be6e849b",
   "metadata": {},
   "outputs": [],
   "source": [
    "non_freq_df = data[data['ViewerType'] == 'Not Frequent']\n",
    "freq_df = data[data['ViewerType'] == 'Frequent']"
   ]
  },
  {
   "cell_type": "code",
   "execution_count": 482,
   "id": "0e4c27e7-cfc3-4356-8cf2-b6ef082b8a37",
   "metadata": {},
   "outputs": [
    {
     "data": {
      "text/plain": [
       "Score\n",
       "5    61.605044\n",
       "4    21.147681\n",
       "3     9.585381\n",
       "2     3.932464\n",
       "1     3.729429\n",
       "Name: count, dtype: float64"
      ]
     },
     "execution_count": 482,
     "metadata": {},
     "output_type": "execute_result"
    }
   ],
   "source": [
    "freq_df['Score'].value_counts()/len(freq_df)*100"
   ]
  },
  {
   "cell_type": "code",
   "execution_count": 484,
   "id": "db9f3158-99da-4ffa-aff7-d7d9c53ed880",
   "metadata": {},
   "outputs": [
    {
     "data": {
      "text/plain": [
       "Score\n",
       "5    63.757986\n",
       "4    14.071191\n",
       "1     9.349850\n",
       "3     7.507547\n",
       "2     5.313426\n",
       "Name: count, dtype: float64"
      ]
     },
     "execution_count": 484,
     "metadata": {},
     "output_type": "execute_result"
    }
   ],
   "source": [
    "non_freq_df['Score'].value_counts()/len(non_freq_df)*100"
   ]
  },
  {
   "cell_type": "code",
   "execution_count": 486,
   "id": "0bfa2c83-6734-4259-972c-0b8cdd53ec23",
   "metadata": {},
   "outputs": [
    {
     "data": {
      "text/plain": [
       "<Axes: xlabel='Score'>"
      ]
     },
     "execution_count": 486,
     "metadata": {},
     "output_type": "execute_result"
    },
    {
     "data": {
      "image/png": "[encoded data removed]",
      "text/plain": [
       "<Figure size 640x480 with 1 Axes>"
      ]
     },
     "metadata": {},
     "output_type": "display_data"
    }
   ],
   "source": [
    "freq_df['Score'].value_counts().plot(kind='bar')"
   ]
  },
  {
   "cell_type": "code",
   "execution_count": 490,
   "id": "ff51ee56-54be-4a1d-be2c-c337e6b2ac90",
   "metadata": {},
   "outputs": [
    {
     "data": {
      "text/plain": [
       "<Axes: xlabel='Score'>"
      ]
     },
     "execution_count": 490,
     "metadata": {},
     "output_type": "execute_result"
    },
    {
     "data": {
      "image/png": "[encoded data removed]",
      "text/plain": [
       "<Figure size 640x480 with 1 Axes>"
      ]
     },
     "metadata": {},
     "output_type": "display_data"
    }
   ],
   "source": [
    "non_freq_df['Score'].value_counts().plot(kind='bar')"
   ]
  },
  {
   "cell_type": "code",
   "execution_count": 492,
   "id": "57081c9b-aa25-406d-81af-3c104319edd7",
   "metadata": {},
   "outputs": [
    {
     "data": {
      "text/plain": [
       "'\\nFrequent reviewers are more discerning in that they give less 5-star and 1-star reviews compared to the Non-Frequent reviewers\\n'"
      ]
     },
     "execution_count": 492,
     "metadata": {},
     "output_type": "execute_result"
    }
   ],
   "source": [
    "'''\n",
    "Frequent reviewers are more discerning in that they give less 5-star and 1-star reviews compared to the Non-Frequent reviewers\n",
    "'''"
   ]
  },
  {
   "cell_type": "markdown",
   "id": "fb271f20-bf0f-49cf-b8d6-13ef0bdea13a",
   "metadata": {},
   "source": [
    "## Sentiment Analysis"
   ]
  },
  {
   "cell_type": "code",
   "execution_count": 497,
   "id": "72cfb4c1-deda-43e5-852e-9526bb482afe",
   "metadata": {},
   "outputs": [
    {
     "name": "stdout",
     "output_type": "stream",
     "text": [
      "Collecting textblob\n",
      "  Downloading textblob-0.18.0.post0-py3-none-any.whl.metadata (4.5 kB)\n",
      "Requirement already satisfied: nltk>=3.8 in /opt/anaconda3/lib/python3.12/site-packages (from textblob) (3.9.1)\n",
      "Requirement already satisfied: click in /opt/anaconda3/lib/python3.12/site-packages (from nltk>=3.8->textblob) (8.1.7)\n",
      "Requirement already satisfied: joblib in /opt/anaconda3/lib/python3.12/site-packages (from nltk>=3.8->textblob) (1.4.2)\n",
      "Requirement already satisfied: regex>=2021.8.3 in /opt/anaconda3/lib/python3.12/site-packages (from nltk>=3.8->textblob) (2024.9.11)\n",
      "Requirement already satisfied: tqdm in /opt/anaconda3/lib/python3.12/site-packages (from nltk>=3.8->textblob) (4.66.5)\n",
      "Downloading textblob-0.18.0.post0-py3-none-any.whl (626 kB)\n",
      "\u001b[2K   \u001b[90m━━━━━━━━━━━━━━━━━━━━━━━━━━━━━━━━━━━━━━━━\u001b[0m \u001b[32m626.3/626.3 kB\u001b[0m \u001b[31m1.2 MB/s\u001b[0m eta \u001b[36m0:00:00\u001b[0ma \u001b[36m0:00:01\u001b[0m\n",
      "\u001b[?25hInstalling collected packages: textblob\n",
      "Successfully installed textblob-0.18.0.post0\n"
     ]
    }
   ],
   "source": [
    "!pip install textblob"
   ]
  },
  {
   "cell_type": "code",
   "execution_count": 499,
   "id": "9be8f02d-f423-4acc-9848-cb115fa89b93",
   "metadata": {},
   "outputs": [],
   "source": [
    "from textblob import TextBlob"
   ]
  },
  {
   "cell_type": "code",
   "execution_count": 503,
   "id": "c01697b9-de03-4959-9f63-5f09ee6a7062",
   "metadata": {},
   "outputs": [
    {
     "data": {
      "text/plain": [
       "(393931, 11)"
      ]
     },
     "execution_count": 503,
     "metadata": {},
     "output_type": "execute_result"
    }
   ],
   "source": [
    "data.shape"
   ]
  },
  {
   "cell_type": "code",
   "execution_count": 511,
   "id": "bbfa9f56-b0d0-42d8-b6bf-960b13957921",
   "metadata": {},
   "outputs": [
    {
     "data": {
      "text/html": [
       "<div>\n",
       "<style scoped>\n",
       "    .dataframe tbody tr th:only-of-type {\n",
       "        vertical-align: middle;\n",
       "    }\n",
       "\n",
       "    .dataframe tbody tr th {\n",
       "        vertical-align: top;\n",
       "    }\n",
       "\n",
       "    .dataframe thead th {\n",
       "        text-align: right;\n",
       "    }\n",
       "</style>\n",
       "<table border=\"1\" class=\"dataframe\">\n",
       "  <thead>\n",
       "    <tr style=\"text-align: right;\">\n",
       "      <th></th>\n",
       "      <th>Id</th>\n",
       "      <th>ProductId</th>\n",
       "      <th>UserId</th>\n",
       "      <th>ProfileName</th>\n",
       "      <th>HelpfulnessNumerator</th>\n",
       "      <th>HelpfulnessDenominator</th>\n",
       "      <th>Score</th>\n",
       "      <th>Time</th>\n",
       "      <th>Summary</th>\n",
       "      <th>Text</th>\n",
       "      <th>ViewerType</th>\n",
       "    </tr>\n",
       "  </thead>\n",
       "  <tbody>\n",
       "    <tr>\n",
       "      <th>126518</th>\n",
       "      <td>126519</td>\n",
       "      <td>B000EGZ97Y</td>\n",
       "      <td>A1UWZBVFPR21G8</td>\n",
       "      <td>Jennifer L. Wilford</td>\n",
       "      <td>1</td>\n",
       "      <td>1</td>\n",
       "      <td>5</td>\n",
       "      <td>2009-03-08</td>\n",
       "      <td>Love Sticky Rice!</td>\n",
       "      <td>Rice Select Sushi Rice is a great way to serve...</td>\n",
       "      <td>Not Frequent</td>\n",
       "    </tr>\n",
       "    <tr>\n",
       "      <th>514654</th>\n",
       "      <td>514655</td>\n",
       "      <td>B0005ZVD8S</td>\n",
       "      <td>A214U1X70CG6ME</td>\n",
       "      <td>Robert H. Hart III \"child of the corned beef ...</td>\n",
       "      <td>2</td>\n",
       "      <td>3</td>\n",
       "      <td>5</td>\n",
       "      <td>2007-05-17</td>\n",
       "      <td>Life-changing Hash</td>\n",
       "      <td>I was a bit skeptical to see a can of corned b...</td>\n",
       "      <td>Not Frequent</td>\n",
       "    </tr>\n",
       "    <tr>\n",
       "      <th>159263</th>\n",
       "      <td>159264</td>\n",
       "      <td>B00513WFVS</td>\n",
       "      <td>A34EQ0RL534U3I</td>\n",
       "      <td>BeStrong</td>\n",
       "      <td>1</td>\n",
       "      <td>1</td>\n",
       "      <td>5</td>\n",
       "      <td>2011-12-28</td>\n",
       "      <td>OMG! These are so addictive!!</td>\n",
       "      <td>If you've ever had pickled okra and they were ...</td>\n",
       "      <td>Not Frequent</td>\n",
       "    </tr>\n",
       "  </tbody>\n",
       "</table>\n",
       "</div>"
      ],
      "text/plain": [
       "            Id   ProductId          UserId  \\\n",
       "126518  126519  B000EGZ97Y  A1UWZBVFPR21G8   \n",
       "514654  514655  B0005ZVD8S  A214U1X70CG6ME   \n",
       "159263  159264  B00513WFVS  A34EQ0RL534U3I   \n",
       "\n",
       "                                             ProfileName  \\\n",
       "126518                               Jennifer L. Wilford   \n",
       "514654  Robert H. Hart III \"child of the corned beef ...   \n",
       "159263                                          BeStrong   \n",
       "\n",
       "        HelpfulnessNumerator  HelpfulnessDenominator  Score       Time  \\\n",
       "126518                     1                       1      5 2009-03-08   \n",
       "514654                     2                       3      5 2007-05-17   \n",
       "159263                     1                       1      5 2011-12-28   \n",
       "\n",
       "                              Summary  \\\n",
       "126518              Love Sticky Rice!   \n",
       "514654             Life-changing Hash   \n",
       "159263  OMG! These are so addictive!!   \n",
       "\n",
       "                                                     Text    ViewerType  \n",
       "126518  Rice Select Sushi Rice is a great way to serve...  Not Frequent  \n",
       "514654  I was a bit skeptical to see a can of corned b...  Not Frequent  \n",
       "159263  If you've ever had pickled okra and they were ...  Not Frequent  "
      ]
     },
     "execution_count": 511,
     "metadata": {},
     "output_type": "execute_result"
    }
   ],
   "source": [
    "# Using sample data due to large dataset\n",
    "sample = data.sample(n=50000, random_state=42)\n",
    "sample.head(3)"
   ]
  },
  {
   "cell_type": "code",
   "execution_count": 513,
   "id": "434ca4ee-3a90-4549-99ee-8cc2d59f7400",
   "metadata": {},
   "outputs": [],
   "source": [
    "polarity = []\n",
    "\n",
    "for text in sample['Summary']:\n",
    "    try:\n",
    "        polarity.append(TextBlob(text).sentiment.polarity)\n",
    "    except:\n",
    "        polarity.append(0)"
   ]
  },
  {
   "cell_type": "code",
   "execution_count": 515,
   "id": "9ce6ae73-cf62-4d06-89ff-93416b9a43d3",
   "metadata": {},
   "outputs": [],
   "source": [
    "sample['Polarity'] = polarity"
   ]
  },
  {
   "cell_type": "code",
   "execution_count": 517,
   "id": "e2fbfcdc-8f70-4d0d-a293-15f1eb11236c",
   "metadata": {},
   "outputs": [
    {
     "data": {
      "text/html": [
       "<div>\n",
       "<style scoped>\n",
       "    .dataframe tbody tr th:only-of-type {\n",
       "        vertical-align: middle;\n",
       "    }\n",
       "\n",
       "    .dataframe tbody tr th {\n",
       "        vertical-align: top;\n",
       "    }\n",
       "\n",
       "    .dataframe thead th {\n",
       "        text-align: right;\n",
       "    }\n",
       "</style>\n",
       "<table border=\"1\" class=\"dataframe\">\n",
       "  <thead>\n",
       "    <tr style=\"text-align: right;\">\n",
       "      <th></th>\n",
       "      <th>Id</th>\n",
       "      <th>ProductId</th>\n",
       "      <th>UserId</th>\n",
       "      <th>ProfileName</th>\n",
       "      <th>HelpfulnessNumerator</th>\n",
       "      <th>HelpfulnessDenominator</th>\n",
       "      <th>Score</th>\n",
       "      <th>Time</th>\n",
       "      <th>Summary</th>\n",
       "      <th>Text</th>\n",
       "      <th>ViewerType</th>\n",
       "      <th>Polarity</th>\n",
       "    </tr>\n",
       "  </thead>\n",
       "  <tbody>\n",
       "    <tr>\n",
       "      <th>126518</th>\n",
       "      <td>126519</td>\n",
       "      <td>B000EGZ97Y</td>\n",
       "      <td>A1UWZBVFPR21G8</td>\n",
       "      <td>Jennifer L. Wilford</td>\n",
       "      <td>1</td>\n",
       "      <td>1</td>\n",
       "      <td>5</td>\n",
       "      <td>2009-03-08</td>\n",
       "      <td>Love Sticky Rice!</td>\n",
       "      <td>Rice Select Sushi Rice is a great way to serve...</td>\n",
       "      <td>Not Frequent</td>\n",
       "      <td>0.625</td>\n",
       "    </tr>\n",
       "    <tr>\n",
       "      <th>514654</th>\n",
       "      <td>514655</td>\n",
       "      <td>B0005ZVD8S</td>\n",
       "      <td>A214U1X70CG6ME</td>\n",
       "      <td>Robert H. Hart III \"child of the corned beef ...</td>\n",
       "      <td>2</td>\n",
       "      <td>3</td>\n",
       "      <td>5</td>\n",
       "      <td>2007-05-17</td>\n",
       "      <td>Life-changing Hash</td>\n",
       "      <td>I was a bit skeptical to see a can of corned b...</td>\n",
       "      <td>Not Frequent</td>\n",
       "      <td>0.000</td>\n",
       "    </tr>\n",
       "    <tr>\n",
       "      <th>159263</th>\n",
       "      <td>159264</td>\n",
       "      <td>B00513WFVS</td>\n",
       "      <td>A34EQ0RL534U3I</td>\n",
       "      <td>BeStrong</td>\n",
       "      <td>1</td>\n",
       "      <td>1</td>\n",
       "      <td>5</td>\n",
       "      <td>2011-12-28</td>\n",
       "      <td>OMG! These are so addictive!!</td>\n",
       "      <td>If you've ever had pickled okra and they were ...</td>\n",
       "      <td>Not Frequent</td>\n",
       "      <td>0.000</td>\n",
       "    </tr>\n",
       "    <tr>\n",
       "      <th>275657</th>\n",
       "      <td>275658</td>\n",
       "      <td>B004Q44NPO</td>\n",
       "      <td>A1XNMF77GJ8V8S</td>\n",
       "      <td>EJ</td>\n",
       "      <td>1</td>\n",
       "      <td>1</td>\n",
       "      <td>2</td>\n",
       "      <td>2011-06-06</td>\n",
       "      <td>Too much sodium</td>\n",
       "      <td>Amazon did not post nutrition information for ...</td>\n",
       "      <td>Not Frequent</td>\n",
       "      <td>0.200</td>\n",
       "    </tr>\n",
       "    <tr>\n",
       "      <th>261470</th>\n",
       "      <td>261471</td>\n",
       "      <td>B0017T6S1I</td>\n",
       "      <td>ACELKH5KHQ752</td>\n",
       "      <td>R. Mallozzi \"eclectic reader\"</td>\n",
       "      <td>1</td>\n",
       "      <td>1</td>\n",
       "      <td>5</td>\n",
       "      <td>2010-09-17</td>\n",
       "      <td>Perfect flavored tea</td>\n",
       "      <td>This is the perfect cold tea drink.  It has wo...</td>\n",
       "      <td>Not Frequent</td>\n",
       "      <td>1.000</td>\n",
       "    </tr>\n",
       "  </tbody>\n",
       "</table>\n",
       "</div>"
      ],
      "text/plain": [
       "            Id   ProductId          UserId  \\\n",
       "126518  126519  B000EGZ97Y  A1UWZBVFPR21G8   \n",
       "514654  514655  B0005ZVD8S  A214U1X70CG6ME   \n",
       "159263  159264  B00513WFVS  A34EQ0RL534U3I   \n",
       "275657  275658  B004Q44NPO  A1XNMF77GJ8V8S   \n",
       "261470  261471  B0017T6S1I   ACELKH5KHQ752   \n",
       "\n",
       "                                             ProfileName  \\\n",
       "126518                               Jennifer L. Wilford   \n",
       "514654  Robert H. Hart III \"child of the corned beef ...   \n",
       "159263                                          BeStrong   \n",
       "275657                                                EJ   \n",
       "261470                     R. Mallozzi \"eclectic reader\"   \n",
       "\n",
       "        HelpfulnessNumerator  HelpfulnessDenominator  Score       Time  \\\n",
       "126518                     1                       1      5 2009-03-08   \n",
       "514654                     2                       3      5 2007-05-17   \n",
       "159263                     1                       1      5 2011-12-28   \n",
       "275657                     1                       1      2 2011-06-06   \n",
       "261470                     1                       1      5 2010-09-17   \n",
       "\n",
       "                              Summary  \\\n",
       "126518              Love Sticky Rice!   \n",
       "514654             Life-changing Hash   \n",
       "159263  OMG! These are so addictive!!   \n",
       "275657                Too much sodium   \n",
       "261470           Perfect flavored tea   \n",
       "\n",
       "                                                     Text    ViewerType  \\\n",
       "126518  Rice Select Sushi Rice is a great way to serve...  Not Frequent   \n",
       "514654  I was a bit skeptical to see a can of corned b...  Not Frequent   \n",
       "159263  If you've ever had pickled okra and they were ...  Not Frequent   \n",
       "275657  Amazon did not post nutrition information for ...  Not Frequent   \n",
       "261470  This is the perfect cold tea drink.  It has wo...  Not Frequent   \n",
       "\n",
       "        Polarity  \n",
       "126518     0.625  \n",
       "514654     0.000  \n",
       "159263     0.000  \n",
       "275657     0.200  \n",
       "261470     1.000  "
      ]
     },
     "execution_count": 517,
     "metadata": {},
     "output_type": "execute_result"
    }
   ],
   "source": [
    "sample.head()"
   ]
  },
  {
   "cell_type": "code",
   "execution_count": 525,
   "id": "767fbbd0-a104-4893-b12d-e2770f45fa01",
   "metadata": {},
   "outputs": [
    {
     "data": {
      "text/html": [
       "<div>\n",
       "<style scoped>\n",
       "    .dataframe tbody tr th:only-of-type {\n",
       "        vertical-align: middle;\n",
       "    }\n",
       "\n",
       "    .dataframe tbody tr th {\n",
       "        vertical-align: top;\n",
       "    }\n",
       "\n",
       "    .dataframe thead th {\n",
       "        text-align: right;\n",
       "    }\n",
       "</style>\n",
       "<table border=\"1\" class=\"dataframe\">\n",
       "  <thead>\n",
       "    <tr style=\"text-align: right;\">\n",
       "      <th></th>\n",
       "      <th>Id</th>\n",
       "      <th>ProductId</th>\n",
       "      <th>UserId</th>\n",
       "      <th>ProfileName</th>\n",
       "      <th>HelpfulnessNumerator</th>\n",
       "      <th>HelpfulnessDenominator</th>\n",
       "      <th>Score</th>\n",
       "      <th>Time</th>\n",
       "      <th>Summary</th>\n",
       "      <th>Text</th>\n",
       "      <th>ViewerType</th>\n",
       "      <th>Polarity</th>\n",
       "    </tr>\n",
       "  </thead>\n",
       "  <tbody>\n",
       "    <tr>\n",
       "      <th>376826</th>\n",
       "      <td>376827</td>\n",
       "      <td>B00014FGHC</td>\n",
       "      <td>A13LRS8QB0QE33</td>\n",
       "      <td>GATITAxCHICANA</td>\n",
       "      <td>0</td>\n",
       "      <td>0</td>\n",
       "      <td>5</td>\n",
       "      <td>2010-12-08</td>\n",
       "      <td>Bust that cold</td>\n",
       "      <td>I love this tea, it's a staple in our househol...</td>\n",
       "      <td>Not Frequent</td>\n",
       "      <td>-0.600000</td>\n",
       "    </tr>\n",
       "    <tr>\n",
       "      <th>498072</th>\n",
       "      <td>498073</td>\n",
       "      <td>B000BYAECY</td>\n",
       "      <td>A6E8G4DVYEQY9</td>\n",
       "      <td>adrianna</td>\n",
       "      <td>2</td>\n",
       "      <td>2</td>\n",
       "      <td>1</td>\n",
       "      <td>2012-02-01</td>\n",
       "      <td>Terrible All Around!!!</td>\n",
       "      <td>i was expecting something like a bunch of bull...</td>\n",
       "      <td>Not Frequent</td>\n",
       "      <td>-1.000000</td>\n",
       "    </tr>\n",
       "    <tr>\n",
       "      <th>40824</th>\n",
       "      <td>40825</td>\n",
       "      <td>B0016HCNG0</td>\n",
       "      <td>A19FXQDNPJPLAE</td>\n",
       "      <td>Moose</td>\n",
       "      <td>0</td>\n",
       "      <td>0</td>\n",
       "      <td>1</td>\n",
       "      <td>2011-09-02</td>\n",
       "      <td>Bad, Old, Products... Hartz sells these as Cru...</td>\n",
       "      <td>This product that I recieved was old... My dog...</td>\n",
       "      <td>Not Frequent</td>\n",
       "      <td>-0.009028</td>\n",
       "    </tr>\n",
       "    <tr>\n",
       "      <th>139836</th>\n",
       "      <td>139837</td>\n",
       "      <td>B0061IUKDM</td>\n",
       "      <td>A13WOT3RSXKRD5</td>\n",
       "      <td>LD</td>\n",
       "      <td>1</td>\n",
       "      <td>1</td>\n",
       "      <td>4</td>\n",
       "      <td>2012-03-29</td>\n",
       "      <td>For the tea lover who likes tea with a small bite</td>\n",
       "      <td>Green tea is smooth and very mild with just a ...</td>\n",
       "      <td>Not Frequent</td>\n",
       "      <td>-0.250000</td>\n",
       "    </tr>\n",
       "    <tr>\n",
       "      <th>203690</th>\n",
       "      <td>203691</td>\n",
       "      <td>B002GWFAM8</td>\n",
       "      <td>A35MLF25AC35YK</td>\n",
       "      <td>G. Donaldson</td>\n",
       "      <td>1</td>\n",
       "      <td>3</td>\n",
       "      <td>1</td>\n",
       "      <td>2012-08-07</td>\n",
       "      <td>Coffee Bean Direct Dark Sumatran Gayoland</td>\n",
       "      <td>Mini-charcoal briquets:  This Sumatran whole-b...</td>\n",
       "      <td>Not Frequent</td>\n",
       "      <td>-0.025000</td>\n",
       "    </tr>\n",
       "  </tbody>\n",
       "</table>\n",
       "</div>"
      ],
      "text/plain": [
       "            Id   ProductId          UserId     ProfileName  \\\n",
       "376826  376827  B00014FGHC  A13LRS8QB0QE33  GATITAxCHICANA   \n",
       "498072  498073  B000BYAECY   A6E8G4DVYEQY9        adrianna   \n",
       "40824    40825  B0016HCNG0  A19FXQDNPJPLAE           Moose   \n",
       "139836  139837  B0061IUKDM  A13WOT3RSXKRD5              LD   \n",
       "203690  203691  B002GWFAM8  A35MLF25AC35YK    G. Donaldson   \n",
       "\n",
       "        HelpfulnessNumerator  HelpfulnessDenominator  Score       Time  \\\n",
       "376826                     0                       0      5 2010-12-08   \n",
       "498072                     2                       2      1 2012-02-01   \n",
       "40824                      0                       0      1 2011-09-02   \n",
       "139836                     1                       1      4 2012-03-29   \n",
       "203690                     1                       3      1 2012-08-07   \n",
       "\n",
       "                                                  Summary  \\\n",
       "376826                                     Bust that cold   \n",
       "498072                             Terrible All Around!!!   \n",
       "40824   Bad, Old, Products... Hartz sells these as Cru...   \n",
       "139836  For the tea lover who likes tea with a small bite   \n",
       "203690          Coffee Bean Direct Dark Sumatran Gayoland   \n",
       "\n",
       "                                                     Text    ViewerType  \\\n",
       "376826  I love this tea, it's a staple in our househol...  Not Frequent   \n",
       "498072  i was expecting something like a bunch of bull...  Not Frequent   \n",
       "40824   This product that I recieved was old... My dog...  Not Frequent   \n",
       "139836  Green tea is smooth and very mild with just a ...  Not Frequent   \n",
       "203690  Mini-charcoal briquets:  This Sumatran whole-b...  Not Frequent   \n",
       "\n",
       "        Polarity  \n",
       "376826 -0.600000  \n",
       "498072 -1.000000  \n",
       "40824  -0.009028  \n",
       "139836 -0.250000  \n",
       "203690 -0.025000  "
      ]
     },
     "execution_count": 525,
     "metadata": {},
     "output_type": "execute_result"
    }
   ],
   "source": [
    "sample_neg = sample[sample['Polarity'] < 0]\n",
    "sample_pos = sample[sample['Polarity'] > 0]\n",
    "sample_neg.head()"
   ]
  },
  {
   "cell_type": "code",
   "execution_count": 521,
   "id": "68b06767-5cf3-4aaa-9007-53aab39e5c3e",
   "metadata": {},
   "outputs": [],
   "source": [
    "from collections import Counter"
   ]
  },
  {
   "cell_type": "markdown",
   "id": "05f0b5b3-938e-47e3-a500-db596950268c",
   "metadata": {},
   "source": [
    "##### Most Used Negative Keywords:"
   ]
  },
  {
   "cell_type": "code",
   "execution_count": 527,
   "id": "8e396d96-767c-463f-9355-4388efd2bc84",
   "metadata": {},
   "outputs": [
    {
     "data": {
      "text/plain": [
       "[('Disappointed', 40),\n",
       " ('Disappointing', 27),\n",
       " ('disappointed', 17),\n",
       " ('Not what I expected', 17),\n",
       " ('Disgusting', 14),\n",
       " ('Awful', 14),\n",
       " ('Horrible', 12),\n",
       " ('Not good', 11),\n",
       " ('Not Good', 11),\n",
       " ('Hard to find', 9)]"
      ]
     },
     "execution_count": 527,
     "metadata": {},
     "output_type": "execute_result"
    }
   ],
   "source": [
    "Counter(sample_neg['Summary']).most_common(10)"
   ]
  },
  {
   "cell_type": "markdown",
   "id": "4851eadc-da24-46e7-8cf2-f023a1174536",
   "metadata": {},
   "source": [
    "##### Most Used Positive Keywords:"
   ]
  },
  {
   "cell_type": "code",
   "execution_count": 529,
   "id": "c1abdec8-c06d-471f-b3b2-1dda4a132621",
   "metadata": {},
   "outputs": [
    {
     "data": {
      "text/plain": [
       "[('Delicious!', 249),\n",
       " ('Delicious', 206),\n",
       " ('Great product', 100),\n",
       " ('Great Product', 85),\n",
       " ('Excellent', 83),\n",
       " ('Love it!', 81),\n",
       " ('Great!', 60),\n",
       " ('Good Stuff', 55),\n",
       " ('Great', 54),\n",
       " ('Awesome!', 51)]"
      ]
     },
     "execution_count": 529,
     "metadata": {},
     "output_type": "execute_result"
    }
   ],
   "source": [
    "Counter(sample_pos['Summary']).most_common(10)"
   ]
  }
 ],
 "metadata": {
  "kernelspec": {
   "display_name": "Python [conda env:base] *",
   "language": "python",
   "name": "conda-base-py"
  },
  "language_info": {
   "codemirror_mode": {
    "name": "ipython",
    "version": 3
   },
   "file_extension": ".py",
   "mimetype": "text/x-python",
   "name": "python",
   "nbconvert_exporter": "python",
   "pygments_lexer": "ipython3",
   "version": "3.12.7"
  }
 },
 "nbformat": 4,
 "nbformat_minor": 5
}
